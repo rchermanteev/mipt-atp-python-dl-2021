{
 "cells": [
  {
   "cell_type": "markdown",
   "metadata": {
    "id": "7l9RkKiyl0TM"
   },
   "source": [
    "В этом домашнем задании предлагается проделать несколько упражнений на NumPy для закрепления материала\n",
    "\n",
    "**Ex 0:** (Ex for exercise)\n",
    "\n",
    "Импортируйте NumPy как `np`. Выясните, какая версия NumPy у вас установлена (погуглите, как. есть способ, работающий для любого пакета)."
   ]
  },
  {
   "cell_type": "code",
   "execution_count": 2,
   "metadata": {},
   "outputs": [],
   "source": [
    "import numpy as np"
   ]
  },
  {
   "cell_type": "code",
   "execution_count": 4,
   "metadata": {},
   "outputs": [
    {
     "data": {
      "text/plain": [
       "'1.21.3'"
      ]
     },
     "execution_count": 4,
     "metadata": {},
     "output_type": "execute_result"
    }
   ],
   "source": [
    "np.__version__"
   ]
  },
  {
   "cell_type": "markdown",
   "metadata": {
    "id": "Uy6ln9Kpl0Tl"
   },
   "source": [
    "**Ex 1:** \n",
    "\n",
    "Команда ниже создает массив `a` из 10 случайных чисел (float-ов). Давайте посмотрим, насколько \"экономнее\" хранить его как NumPy-массив (а не как `list(a)`) – будем генерировать `a` из 10, 100, ..., $10^6$ таких случайных чисел, и будем смотреть на долю размера `a` от размера `list(a)`.\n",
    "\n",
    "_Размер в памяти какого-то обьекта в Python можно определить функцией из библиотеки `sys` – системных утилит._"
   ]
  },
  {
   "cell_type": "code",
   "execution_count": 5,
   "metadata": {},
   "outputs": [],
   "source": [
    "import sys"
   ]
  },
  {
   "cell_type": "code",
   "execution_count": 14,
   "metadata": {},
   "outputs": [
    {
     "name": "stdout",
     "output_type": "stream",
     "text": [
      "Длина массива 10: \n",
      "    размер np.array 184, размер python list: 136. Доля занимаемой памяти a_list / a: 0.7391304347826086\n",
      "Длина массива 100: \n",
      "    размер np.array 904, размер python list: 856. Доля занимаемой памяти a_list / a: 0.9469026548672567\n",
      "Длина массива 1000: \n",
      "    размер np.array 8104, размер python list: 8056. Доля занимаемой памяти a_list / a: 0.9940769990128332\n",
      "Длина массива 10000: \n",
      "    размер np.array 80104, размер python list: 80056. Доля занимаемой памяти a_list / a: 0.9994007789873165\n",
      "Длина массива 100000: \n",
      "    размер np.array 800104, размер python list: 800056. Доля занимаемой памяти a_list / a: 0.9999400077989862\n",
      "Длина массива 1000000: \n",
      "    размер np.array 8000104, размер python list: 8000056. Доля занимаемой памяти a_list / a: 0.999994000077999\n"
     ]
    }
   ],
   "source": [
    "for size in [10**i for i in range(1, 7)]:\n",
    "    a = np.random.random((size))\n",
    "    a_list = list(a)\n",
    "    print(f\"\"\"Длина массива {size}: \n",
    "    размер np.array {sys.getsizeof(a)}, размер python list: {sys.getsizeof(a_list)}. Доля занимаемой памяти a_list / a: {sys.getsizeof(a_list) / sys.getsizeof(a)}\"\"\")"
   ]
  },
  {
   "cell_type": "markdown",
   "metadata": {
    "id": "wFFc8_b_l0T0"
   },
   "source": [
    "**Ex 2:** \n",
    "\n",
    "То же самое, только давайте брать (одномерные) массивы размера $10^2,~10^4,~10^6$, переводить их в двумерные размеров $(10,10),~(10^2,10^2),~(10^3,10^3),$ и сравнивать размер двумерного массива `a` и соответствующего (вложенного) листа листов.\n",
    "\n",
    "_Если из одномерного массива `a` лист можно получить просто функцией `list(a)`, то для двумерного массива `a2` функция `list(a2)` вернет лист numpy-массивов – надо каждый из них, в свою очередь, превратить в лист. Тут поможет, например, техника list comprehension_"
   ]
  },
  {
   "cell_type": "code",
   "execution_count": 15,
   "metadata": {},
   "outputs": [
    {
     "name": "stdout",
     "output_type": "stream",
     "text": [
      "Длина массива 100 - размер np.array 120, размер python list: 456\n",
      "Длина массива 10000 - размер np.array 120, размер python list: 40056\n",
      "Длина массива 1000000 - размер np.array 120, размер python list: 4000056\n"
     ]
    }
   ],
   "source": [
    "for size in [10**i for i in range(2, 7, 2)]:\n",
    "    a = np.random.random((size))\n",
    "    a = a.reshape(-1, 2)\n",
    "    a_list = list([list(row) for row in a])\n",
    "    print(f\"Длина массива {size} - размер np.array {sys.getsizeof(a)}, размер python list: {sys.getsizeof(a_list)}\")"
   ]
  },
  {
   "cell_type": "markdown",
   "metadata": {
    "id": "_8BHFgayl0UB"
   },
   "source": [
    "**Ex. 3**\n",
    "\n",
    "Напишите функцию _(тут поможет техника list comprehension)_ , которая, получив на вход лист из `n` чисел, $(x_1, x_2, ..., x_n)$, строит матрицу Ван-дер-Монда:\n",
    "\n",
    "$$M(x_1,x_2,...,x_n)=\\begin{pmatrix}\n",
    "1 & x_1 & x_1^2 & ... & x_1^{n-1}\\\\\n",
    "1 & x_2 & x_2^2 & ... & x_2^{n-1}\\\\\n",
    "... & ... & ... & ... & ... \\\\\n",
    "1 & x_n & x_n^2 & ... & x_n^{n-1}\\\\\n",
    "\\end{pmatrix}$$\n",
    "\n",
    "и возвращает ее определитель. Определитель матрицы `a` (двумерного numpy-массива) можно посчитать функцией `np.linalg.det(a)`.\n",
    "\n",
    "Проверьте, что вы не ошиблись, сравнив с явной формулой для определителя Ван-дер-Монда:\n",
    "\n",
    "$$\\det M(x_1,x_2,...,x_n) = \\prod_{1\\leq j < i \\leq n} (x_i - x_j) $$"
   ]
  },
  {
   "cell_type": "code",
   "execution_count": 49,
   "metadata": {},
   "outputs": [],
   "source": [
    "n = 3\n",
    "a = np.random.random((n))\n",
    "a_col = a.reshape(-1, 1)\n",
    "matrix = np.repeat(a_col, n, axis=1)\n",
    "matrix_van_de_mord = np.array([matrix[:, 1] ** i for i in range(n)]).T"
   ]
  },
  {
   "cell_type": "code",
   "execution_count": 50,
   "metadata": {},
   "outputs": [],
   "source": [
    "det = np.linalg.det(matrix_van_de_mord)"
   ]
  },
  {
   "cell_type": "code",
   "execution_count": 51,
   "metadata": {},
   "outputs": [
    {
     "data": {
      "text/plain": [
       "0.04205188306283216"
      ]
     },
     "execution_count": 51,
     "metadata": {},
     "output_type": "execute_result"
    }
   ],
   "source": [
    "det"
   ]
  },
  {
   "cell_type": "code",
   "execution_count": 52,
   "metadata": {},
   "outputs": [],
   "source": [
    "real_det = 1\n",
    "for i in range(n):\n",
    "    for j in range(n):\n",
    "        if j < i:\n",
    "            real_det *= a[i] - a[j]"
   ]
  },
  {
   "cell_type": "code",
   "execution_count": 53,
   "metadata": {},
   "outputs": [
    {
     "data": {
      "text/plain": [
       "0.04205188306283217"
      ]
     },
     "execution_count": 53,
     "metadata": {},
     "output_type": "execute_result"
    }
   ],
   "source": [
    "real_det"
   ]
  },
  {
   "cell_type": "markdown",
   "metadata": {
    "id": "OgikGrhUl0UN"
   },
   "source": [
    "**Ex 4** \n",
    "\n",
    "Создайте массив `a` случайных чисел `np.random.randn()` размеров (10,10,10). Найдите наибольший и наименьший элемент. Найдите сумму всех положительных элементов.  "
   ]
  },
  {
   "cell_type": "code",
   "execution_count": 57,
   "metadata": {},
   "outputs": [],
   "source": [
    "a = np.random.randn(10, 10, 10)"
   ]
  },
  {
   "cell_type": "code",
   "execution_count": 63,
   "metadata": {},
   "outputs": [
    {
     "data": {
      "text/plain": [
       "(2.7794002521903036, -3.838956240418659)"
      ]
     },
     "execution_count": 63,
     "metadata": {},
     "output_type": "execute_result"
    }
   ],
   "source": [
    "a.max(), a.min()"
   ]
  },
  {
   "cell_type": "code",
   "execution_count": 65,
   "metadata": {},
   "outputs": [
    {
     "data": {
      "text/plain": [
       "380.8887137814306"
      ]
     },
     "execution_count": 65,
     "metadata": {},
     "output_type": "execute_result"
    }
   ],
   "source": [
    "a[a > 0].sum()"
   ]
  },
  {
   "cell_type": "markdown",
   "metadata": {
    "id": "VDVuAlLEl0Ul"
   },
   "source": [
    "**Ex 5** \n",
    "\n",
    "То же самое, только возьмите срез массива `a`: от осей с нечетными номерами (пусть у нас оси (1ая, 2я, 3я)) пробегите (и возьмите в срез) по всем нечетным значения индекса, а от 2ой оси – (индекс пробегает (0,1,...,9)) возьмите значения индекса от 3 до 7 (включительно)."
   ]
  },
  {
   "cell_type": "code",
   "execution_count": 122,
   "metadata": {},
   "outputs": [],
   "source": [
    "a = np.random.randn(10, 10, 10)"
   ]
  },
  {
   "cell_type": "code",
   "execution_count": 124,
   "metadata": {},
   "outputs": [],
   "source": [
    "new_a = a[ 1::2 , 3:8 , 1::2 ]"
   ]
  },
  {
   "cell_type": "code",
   "execution_count": 125,
   "metadata": {},
   "outputs": [
    {
     "data": {
      "text/plain": [
       "(2.1841975571339227, -2.141607696053549)"
      ]
     },
     "execution_count": 125,
     "metadata": {},
     "output_type": "execute_result"
    }
   ],
   "source": [
    "new_a.max(), new_a.min()"
   ]
  },
  {
   "cell_type": "code",
   "execution_count": 126,
   "metadata": {},
   "outputs": [
    {
     "data": {
      "text/plain": [
       "60.285030754372094"
      ]
     },
     "execution_count": 126,
     "metadata": {},
     "output_type": "execute_result"
    }
   ],
   "source": [
    "new_a[new_a > 0].sum()"
   ]
  },
  {
   "cell_type": "markdown",
   "metadata": {
    "id": "Jr3N7wZ2l0U7"
   },
   "source": [
    "**Ex 6** \n",
    "\n",
    "_**(Сначала пара подсказок)**_\n",
    "\n",
    "_Вот так можно отобразить элементы матрицы. Цветовую схему я выбрал оттенки серого, т.к значения тут все положительные._"
   ]
  },
  {
   "cell_type": "code",
   "execution_count": 104,
   "metadata": {},
   "outputs": [],
   "source": [
    "import matplotlib.pyplot as plt\n",
    "%matplotlib inline"
   ]
  },
  {
   "cell_type": "code",
   "execution_count": 105,
   "metadata": {},
   "outputs": [
    {
     "data": {
      "text/plain": [
       "<matplotlib.colorbar.Colorbar at 0x7f8fac7f34c0>"
      ]
     },
     "execution_count": 105,
     "metadata": {},
     "output_type": "execute_result"
    },
    {
     "data": {
      "image/png": "[encoded data removed]",
      "text/plain": [
       "<Figure size 432x288 with 2 Axes>"
      ]
     },
     "metadata": {
      "needs_background": "light"
     },
     "output_type": "display_data"
    }
   ],
   "source": [
    "a = np.arange(9).reshape(3,3)\n",
    "\n",
    "plt.imshow(a, cmap = 'gray')\n",
    "plt.colorbar()"
   ]
  },
  {
   "cell_type": "markdown",
   "metadata": {
    "id": "bQKf9T5Fl0VS"
   },
   "source": [
    "_Допустим, вы хотите построить вот такой \"график\" (вид сверху, интенсивность серого кодирует высоту графика) функции от двух переменных, $x$ и $y$. Вы хотите, чтобы $x$ и $y$ принимали значения от $0$ до $1$, и вам достаточно в этом интервале вычислить функцию в 100 точках (10 шагов по $x$, 10 шагов по $y$, итого шаг решетки – $0.1$). Вот, как это можно сделать (командой `np.meshgrid()`):_"
   ]
  },
  {
   "cell_type": "code",
   "execution_count": 106,
   "metadata": {},
   "outputs": [],
   "source": [
    "ps = np.arange(0,1,0.1)\n",
    "\n",
    "xs, ys = np.meshgrid(ps,ps)"
   ]
  },
  {
   "cell_type": "markdown",
   "metadata": {
    "id": "YTxpwjmFl0Vj"
   },
   "source": [
    "_(Посмотрите, как выглядят массивы `xs` и `ys`)_\n",
    "\n",
    "**_Теперь задание:_**\n",
    "Постройте вот такой \"двумерный\" график в оттенках серого функции $I(x,y)$ (I for intensity) расстояния от центра координат \n",
    "\n",
    "$$I = \\sqrt{x^2 + y^2}$$\n",
    "\n",
    "Для $(x,y)$ от $-1$ до $1$, с шагом 0.05.\n",
    "\n",
    "Покажите на этом графике область, где $I < 0.5$\n",
    "\n",
    "_(Если интенсивность идет от белого к черному с возрастанием значения – поменяйте знак всего массива интенсивностей, чтобы область $I < 0.5$ была окрашена оттенками серого, а внешняя часть – была белой_"
   ]
  },
  {
   "cell_type": "code",
   "execution_count": 116,
   "metadata": {},
   "outputs": [],
   "source": [
    "ps = np.arange(-1,1,0.05)\n",
    "\n",
    "xs, ys = np.meshgrid(ps,ps)"
   ]
  },
  {
   "cell_type": "code",
   "execution_count": 117,
   "metadata": {
    "id": "Yj2iHuvPefOP"
   },
   "outputs": [],
   "source": [
    "I = np.sqrt(xs ** 2 + ys ** 2)"
   ]
  },
  {
   "cell_type": "code",
   "execution_count": 118,
   "metadata": {},
   "outputs": [
    {
     "data": {
      "text/plain": [
       "<matplotlib.colorbar.Colorbar at 0x7f8fac543be0>"
      ]
     },
     "execution_count": 118,
     "metadata": {},
     "output_type": "execute_result"
    },
    {
     "data": {
      "image/png": "[encoded data removed]",
      "text/plain": [
       "<Figure size 432x288 with 2 Axes>"
      ]
     },
     "metadata": {
      "needs_background": "light"
     },
     "output_type": "display_data"
    }
   ],
   "source": [
    "plt.imshow(I, cmap = 'gray')\n",
    "plt.colorbar()"
   ]
  },
  {
   "cell_type": "code",
   "execution_count": null,
   "metadata": {},
   "outputs": [],
   "source": []
  }
 ],
 "metadata": {
  "colab": {
   "collapsed_sections": [],
   "name": "HW1 – Основы NumPy.ipynb",
   "provenance": []
  },
  "kernelspec": {
   "display_name": "Python 3",
   "language": "python",
   "name": "python3"
  },
  "language_info": {
   "codemirror_mode": {
    "name": "ipython",
    "version": 3
   },
   "file_extension": ".py",
   "mimetype": "text/x-python",
   "name": "python",
   "nbconvert_exporter": "python",
   "pygments_lexer": "ipython3",
   "version": "3.9.5"
  }
 },
 "nbformat": 4,
 "nbformat_minor": 1
}
